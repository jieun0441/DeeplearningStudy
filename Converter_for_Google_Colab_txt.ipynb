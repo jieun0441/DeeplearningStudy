{
  "nbformat": 4,
  "nbformat_minor": 0,
  "metadata": {
    "colab": {
      "name": "Converter_for Google Colab.txt",
      "provenance": [],
      "include_colab_link": true
    },
    "kernelspec": {
      "name": "python3",
      "display_name": "Python 3"
    },
    "language_info": {
      "name": "python"
    }
  },
  "cells": [
    {
      "cell_type": "markdown",
      "metadata": {
        "id": "view-in-github",
        "colab_type": "text"
      },
      "source": [
        "<a href=\"https://colab.research.google.com/github/jieun0441/DeeplearningStudy/blob/main/Converter_for_Google_Colab_txt.ipynb\" target=\"_parent\"><img src=\"https://colab.research.google.com/assets/colab-badge.svg\" alt=\"Open In Colab\"/></a>"
      ]
    },
    {
      "cell_type": "markdown",
      "metadata": {
        "id": "_sjT6drktbah"
      },
      "source": [
        "# Mount Your Google Drive First"
      ]
    },
    {
      "cell_type": "code",
      "metadata": {
        "colab": {
          "base_uri": "https://localhost:8080/"
        },
        "id": "EINq54GKxSAJ",
        "outputId": "11031c3e-435f-4f93-b755-4d4620a9629a"
      },
      "source": [
        "from google.colab import drive\n",
        "drive.mount('/content/drive')"
      ],
      "execution_count": null,
      "outputs": [
        {
          "output_type": "stream",
          "name": "stdout",
          "text": [
            "Mounted at /content/drive\n"
          ]
        }
      ]
    },
    {
      "cell_type": "markdown",
      "metadata": {
        "id": "nQeeqAmotgBs"
      },
      "source": [
        "# Install `json-flat` library"
      ]
    },
    {
      "cell_type": "code",
      "metadata": {
        "colab": {
          "base_uri": "https://localhost:8080/"
        },
        "id": "mmn7aMe9xY31",
        "outputId": "df912d5e-1abf-405c-d362-33a5e0639ce7"
      },
      "source": [
        "!pip install json-flat"
      ],
      "execution_count": null,
      "outputs": [
        {
          "output_type": "stream",
          "name": "stdout",
          "text": [
            "Collecting json-flat\n",
            "  Downloading json_flat-1.0.0-py3-none-any.whl (8.3 kB)\n",
            "\u001b[31mERROR: Operation cancelled by user\u001b[0m\n"
          ]
        }
      ]
    },
    {
      "cell_type": "markdown",
      "metadata": {
        "id": "xMrLjNletnn7"
      },
      "source": [
        "# Import the libraries and run all the cells"
      ]
    },
    {
      "cell_type": "code",
      "metadata": {
        "id": "TQdjfUpIrjuo",
        "colab": {
          "base_uri": "https://localhost:8080/",
          "height": 338
        },
        "outputId": "e3c96602-9e3c-4160-e745-7d2b07cd1680"
      },
      "source": [
        "import csv\n",
        "import json\n",
        "import os\n",
        "import sys\n",
        "\n",
        "from jsonflat import JsonFlat"
      ],
      "execution_count": null,
      "outputs": [
        {
          "output_type": "error",
          "ename": "ModuleNotFoundError",
          "evalue": "ignored",
          "traceback": [
            "\u001b[0;31m---------------------------------------------------------------------------\u001b[0m",
            "\u001b[0;31mModuleNotFoundError\u001b[0m                       Traceback (most recent call last)",
            "\u001b[0;32m<ipython-input-4-4f0563ef61cf>\u001b[0m in \u001b[0;36m<module>\u001b[0;34m()\u001b[0m\n\u001b[1;32m      4\u001b[0m \u001b[0;32mimport\u001b[0m \u001b[0msys\u001b[0m\u001b[0;34m\u001b[0m\u001b[0;34m\u001b[0m\u001b[0m\n\u001b[1;32m      5\u001b[0m \u001b[0;34m\u001b[0m\u001b[0m\n\u001b[0;32m----> 6\u001b[0;31m \u001b[0;32mfrom\u001b[0m \u001b[0mjsonflat\u001b[0m \u001b[0;32mimport\u001b[0m \u001b[0mJsonFlat\u001b[0m\u001b[0;34m\u001b[0m\u001b[0;34m\u001b[0m\u001b[0m\n\u001b[0m",
            "\u001b[0;31mModuleNotFoundError\u001b[0m: No module named 'jsonflat'",
            "",
            "\u001b[0;31m---------------------------------------------------------------------------\u001b[0;32m\nNOTE: If your import is failing due to a missing package, you can\nmanually install dependencies using either !pip or !apt.\n\nTo view examples of installing some common dependencies, click the\n\"Open Examples\" button below.\n\u001b[0;31m---------------------------------------------------------------------------\u001b[0m\n"
          ],
          "errorDetails": {
            "actions": [
              {
                "action": "open_url",
                "actionText": "Open Examples",
                "url": "/notebooks/snippets/importing_libraries.ipynb"
              }
            ]
          }
        }
      ]
    },
    {
      "cell_type": "code",
      "metadata": {
        "id": "JJVtxK4nr2eZ"
      },
      "source": [
        "def getFileList(root):\n",
        "    fileList = []\n",
        "    for path, dirs, files in os.walk(root):\n",
        "        for file in files:\n",
        "            if file.lower().endswith('.json'):\n",
        "                fileList.append(os.path.join(path, file))\n",
        "    return fileList"
      ],
      "execution_count": null,
      "outputs": []
    },
    {
      "cell_type": "code",
      "metadata": {
        "id": "nz3i6ZOQr3Ia"
      },
      "source": [
        "def mkdir_recursive(path):\n",
        "    sub_path = os.path.dirname(path)\n",
        "    if not os.path.exists(sub_path):\n",
        "        mkdir_recursive(sub_path)\n",
        "    if not os.path.exists(path):\n",
        "        os.mkdir(path)"
      ],
      "execution_count": null,
      "outputs": []
    },
    {
      "cell_type": "code",
      "metadata": {
        "id": "2TjU0tnmr8Ln"
      },
      "source": [
        "def readJSONFile(input_file):\n",
        "    data = []\n",
        "    with open(input_file, 'r', encoding=\"utf-8\") as f:\n",
        "        for row in f:\n",
        "            if row.strip().startswith(\"[\") or row.strip().endswith(']'):\n",
        "                # Skip this row\n",
        "                continue\n",
        "            else:\n",
        "                try:\n",
        "                    temp_row = row.strip()\n",
        "                    temp_row = temp_row.rstrip(\",\")\n",
        "                    temp_row = temp_row.rstrip(\"[\")\n",
        "                    temp_row = temp_row.rstrip(\"]\")\n",
        "                    temp_row = temp_row.rstrip(\",\")\n",
        "                    data.append(json.loads(temp_row))\n",
        "                except Exception as e:\n",
        "                    print(\"[-] {}\".format(e))\n",
        "                    print(\"[-] Skipping this file due to above error\")\n",
        "                    return None\n",
        "    return data"
      ],
      "execution_count": null,
      "outputs": []
    },
    {
      "cell_type": "code",
      "metadata": {
        "id": "eROw8wr3r-_4"
      },
      "source": [
        "def run(split_files, row_limit, input_folder_path, output_folder_path):\n",
        "    print(\"[+] Reading input files from given path\")\n",
        "    files = getFileList(input_folder_path)\n",
        "    print(\"[+] Total file paths fetched: \", len(files))\n",
        "    print()\n",
        "    for num, file in enumerate(files):\n",
        "        try:\n",
        "            print(\"[+] Reading file {}: {}\".format(num + 1, file))\n",
        "            data = readJSONFile(file)\n",
        "            if data is None:\n",
        "                print(\"[-] Moving on to next file\")\n",
        "                print()\n",
        "                continue\n",
        "            print(\"[+] Parsing into csv\")\n",
        "            flatten_data = JsonFlat().flatten(data)\n",
        "            fieldnames = flatten_data['field_names']\n",
        "            flattened_rows = flatten_data['rows']\n",
        "            print(\"[+] Preparing paths for output directories\")\n",
        "            relPath = os.path.relpath(file, input_folder_path)\n",
        "            temp_abs_path = os.path.join(output_folder_path, relPath)\n",
        "            temp_folder_path = os.path.dirname(temp_abs_path)\n",
        "            if not os.path.exists(temp_folder_path):\n",
        "                print(\"[+] Creating output directories\")\n",
        "                mkdir_recursive(temp_folder_path)\n",
        "            if split_files:\n",
        "                print(\"[+] Writing data to multiple smaller output files\")\n",
        "                current_piece = 1\n",
        "                current_limit = row_limit\n",
        "                filename = os.path.basename(temp_abs_path).split(\".\")[0] + \"-Part-{}.csv\".format(current_piece)\n",
        "                output_file_path = os.path.join(temp_folder_path, filename)\n",
        "                f_out = open(output_file_path, 'w', newline='', encoding='utf-8')\n",
        "                current_out_writer = csv.DictWriter(f_out, fieldnames=fieldnames)\n",
        "                current_out_writer.writeheader()\n",
        "                print(filename)\n",
        "                for row_index, row in enumerate(flattened_rows):\n",
        "                    if row_index + 1 > current_limit:\n",
        "                        f_out.flush()\n",
        "                        f_out.close()\n",
        "                        current_piece += 1\n",
        "                        current_limit = row_limit * current_piece\n",
        "                        filename = os.path.basename(temp_abs_path).split(\".\")[0] + \"-Part-{}.csv\".format(current_piece)\n",
        "                        output_file_path = os.path.join(temp_folder_path, filename)\n",
        "                        f_out = open(output_file_path, 'w', newline='', encoding='utf-8')\n",
        "                        current_out_writer = csv.DictWriter(f_out, fieldnames=fieldnames)\n",
        "                        current_out_writer.writeheader()\n",
        "                        print(filename)\n",
        "\n",
        "                    current_out_writer.writerow(row)\n",
        "            else:\n",
        "                print(\"[+] Writing data to a single output file\")\n",
        "                filename = os.path.basename(temp_abs_path).split(\".\")[0] + \".csv\"\n",
        "                output_file_path = os.path.join(temp_folder_path, filename)\n",
        "                with open(output_file_path, \"w\", encoding=\"utf-8\", newline=\"\") as f_out:\n",
        "                    writer = csv.DictWriter(f_out, fieldnames=fieldnames)\n",
        "                    writer.writeheader()\n",
        "                    writer.writerows(flattened_rows)\n",
        "                print(\"[+] Output file successfully written to: \", output_file_path)\n",
        "            print()\n",
        "            del flatten_data\n",
        "            del data\n",
        "        except Exception as e:\n",
        "            print(\"[-] {}\".format(e))\n",
        "            print(\"[-] Skipping this file due to above error\")\n",
        "            print()"
      ],
      "execution_count": null,
      "outputs": []
    },
    {
      "cell_type": "markdown",
      "metadata": {
        "id": "rz97u80sts2V"
      },
      "source": [
        "# Main\n",
        "\n",
        "Change the paths in this cell and run it only after executing all the above cells."
      ]
    },
    {
      "cell_type": "code",
      "metadata": {
        "colab": {
          "base_uri": "https://localhost:8080/"
        },
        "id": "8x__QlUUsGFh",
        "outputId": "f9d95eba-ec36-45dd-e183-8860a2c737da"
      },
      "source": [
        "try:\n",
        "    input_folder_path = r\"/content/drive/MyDrive/PropertyGuru\"\n",
        "    output_folder_path = r\"/content/drive/MyDrive/PropertyGuru/Output\"\n",
        "    split_files = input(\"Do you want to split the output files into smaller files? (y/n): \")\n",
        "    split_files = True if split_files.strip().lower() == \"y\" else False\n",
        "    row_limit = None\n",
        "    if split_files:\n",
        "        row_limit = input(\n",
        "            \"Enter the number of records you want the file to split in\\nfor e.g. 100000, 2000000, 350000...: \")\n",
        "        if row_limit.strip().isnumeric():\n",
        "            row_limit = int(row_limit)\n",
        "        else:\n",
        "            print(\"Please enter an integer value for row split count!\")\n",
        "            sys.exit(0)\n",
        "    run(split_files, row_limit, input_folder_path, output_folder_path)\n",
        "    print(\"\\n[+] All files converted successfully\")\n",
        "except Exception as e:\n",
        "    print(e)\n",
        "    print(\"[-] Stopping executiong due to above error!\")"
      ],
      "execution_count": null,
      "outputs": [
        {
          "output_type": "stream",
          "name": "stdout",
          "text": [
            "Do you want to split the output files into smaller files? (y/n): n\n",
            "[+] Reading input files from given path\n",
            "[+] Total file paths fetched:  44\n",
            "\n",
            "[+] Reading file 1: /content/drive/MyDrive/PropertyGuru/2020-09-29/sale/property_urls.json\n",
            "[+] Parsing into csv\n",
            "[+] Preparing paths for output directories\n",
            "[+] Creating output directories\n",
            "[+] Writing data to a single output file\n",
            "[+] Output file successfully written to:  /content/drive/MyDrive/PropertyGuru/Output/2020-09-29/sale/property_urls.csv\n",
            "\n",
            "[+] Reading file 2: /content/drive/MyDrive/PropertyGuru/2020-09-29/sale/property_data.json\n",
            "[+] Parsing into csv\n",
            "[+] Preparing paths for output directories\n",
            "[+] Writing data to a single output file\n",
            "[+] Output file successfully written to:  /content/drive/MyDrive/PropertyGuru/Output/2020-09-29/sale/property_data.csv\n",
            "\n",
            "[+] Reading file 3: /content/drive/MyDrive/PropertyGuru/2020-09-29/rent/property_urls.json\n",
            "[+] Parsing into csv\n",
            "[+] Preparing paths for output directories\n",
            "[+] Creating output directories\n",
            "[+] Writing data to a single output file\n",
            "[+] Output file successfully written to:  /content/drive/MyDrive/PropertyGuru/Output/2020-09-29/rent/property_urls.csv\n",
            "\n",
            "[+] Reading file 4: /content/drive/MyDrive/PropertyGuru/2020-09-29/rent/property_data.json\n",
            "[+] Parsing into csv\n",
            "[+] Preparing paths for output directories\n",
            "[+] Writing data to a single output file\n",
            "[+] Output file successfully written to:  /content/drive/MyDrive/PropertyGuru/Output/2020-09-29/rent/property_data.csv\n",
            "\n",
            "[+] Reading file 5: /content/drive/MyDrive/PropertyGuru/2021-05-27/rent/property_urls.json\n",
            "[+] Parsing into csv\n",
            "[+] Preparing paths for output directories\n",
            "[+] Creating output directories\n",
            "[+] Writing data to a single output file\n",
            "[+] Output file successfully written to:  /content/drive/MyDrive/PropertyGuru/Output/2021-05-27/rent/property_urls.csv\n",
            "\n",
            "[+] Reading file 6: /content/drive/MyDrive/PropertyGuru/2021-05-27/rent/property_data.json\n",
            "[+] Parsing into csv\n",
            "[+] Preparing paths for output directories\n",
            "[+] Writing data to a single output file\n",
            "[+] Output file successfully written to:  /content/drive/MyDrive/PropertyGuru/Output/2021-05-27/rent/property_data.csv\n",
            "\n",
            "[+] Reading file 7: /content/drive/MyDrive/PropertyGuru/2021-05-27/sale/property_urls.json\n",
            "[+] Parsing into csv\n",
            "[+] Preparing paths for output directories\n",
            "[+] Creating output directories\n",
            "[+] Writing data to a single output file\n",
            "[+] Output file successfully written to:  /content/drive/MyDrive/PropertyGuru/Output/2021-05-27/sale/property_urls.csv\n",
            "\n",
            "[+] Reading file 8: /content/drive/MyDrive/PropertyGuru/2021-05-27/sale/property_data.json\n",
            "[+] Parsing into csv\n",
            "[+] Preparing paths for output directories\n",
            "[+] Writing data to a single output file\n",
            "[+] Output file successfully written to:  /content/drive/MyDrive/PropertyGuru/Output/2021-05-27/sale/property_data.csv\n",
            "\n",
            "[+] Reading file 9: /content/drive/MyDrive/PropertyGuru/2021-07-19/rent/property_urls.json\n",
            "[+] Parsing into csv\n",
            "[+] Preparing paths for output directories\n",
            "[+] Creating output directories\n",
            "[+] Writing data to a single output file\n",
            "[+] Output file successfully written to:  /content/drive/MyDrive/PropertyGuru/Output/2021-07-19/rent/property_urls.csv\n",
            "\n",
            "[+] Reading file 10: /content/drive/MyDrive/PropertyGuru/2021-07-19/rent/property_data.json\n",
            "[+] Parsing into csv\n",
            "[+] Preparing paths for output directories\n",
            "[+] Writing data to a single output file\n",
            "[+] Output file successfully written to:  /content/drive/MyDrive/PropertyGuru/Output/2021-07-19/rent/property_data.csv\n",
            "\n",
            "[+] Reading file 11: /content/drive/MyDrive/PropertyGuru/2021-07-19/sale/property_urls.json\n",
            "[+] Parsing into csv\n",
            "[+] Preparing paths for output directories\n",
            "[+] Creating output directories\n",
            "[+] Writing data to a single output file\n",
            "[+] Output file successfully written to:  /content/drive/MyDrive/PropertyGuru/Output/2021-07-19/sale/property_urls.csv\n",
            "\n",
            "[+] Reading file 12: /content/drive/MyDrive/PropertyGuru/2021-07-19/sale/property_data.json\n",
            "[+] Parsing into csv\n",
            "[+] Preparing paths for output directories\n",
            "[+] Writing data to a single output file\n",
            "[+] Output file successfully written to:  /content/drive/MyDrive/PropertyGuru/Output/2021-07-19/sale/property_data.csv\n",
            "\n",
            "[+] Reading file 13: /content/drive/MyDrive/PropertyGuru/2021-01-14/rent/property_urls.json\n",
            "[+] Parsing into csv\n",
            "[+] Preparing paths for output directories\n",
            "[+] Creating output directories\n",
            "[+] Writing data to a single output file\n",
            "[+] Output file successfully written to:  /content/drive/MyDrive/PropertyGuru/Output/2021-01-14/rent/property_urls.csv\n",
            "\n",
            "[+] Reading file 14: /content/drive/MyDrive/PropertyGuru/2021-01-14/rent/property_data.json\n",
            "[+] Parsing into csv\n",
            "[+] Preparing paths for output directories\n",
            "[+] Writing data to a single output file\n",
            "[+] Output file successfully written to:  /content/drive/MyDrive/PropertyGuru/Output/2021-01-14/rent/property_data.csv\n",
            "\n",
            "[+] Reading file 15: /content/drive/MyDrive/PropertyGuru/2021-01-14/sale/property_urls.json\n",
            "[+] Parsing into csv\n",
            "[+] Preparing paths for output directories\n",
            "[+] Creating output directories\n",
            "[+] Writing data to a single output file\n",
            "[+] Output file successfully written to:  /content/drive/MyDrive/PropertyGuru/Output/2021-01-14/sale/property_urls.csv\n",
            "\n",
            "[+] Reading file 16: /content/drive/MyDrive/PropertyGuru/2021-01-14/sale/property_data.json\n",
            "[+] Parsing into csv\n",
            "[+] Preparing paths for output directories\n",
            "[+] Writing data to a single output file\n",
            "[+] Output file successfully written to:  /content/drive/MyDrive/PropertyGuru/Output/2021-01-14/sale/property_data.csv\n",
            "\n",
            "[+] Reading file 17: /content/drive/MyDrive/PropertyGuru/2021-09-07/rent/property_urls.json\n",
            "[+] Parsing into csv\n",
            "[+] Preparing paths for output directories\n",
            "[+] Creating output directories\n",
            "[+] Writing data to a single output file\n",
            "[+] Output file successfully written to:  /content/drive/MyDrive/PropertyGuru/Output/2021-09-07/rent/property_urls.csv\n",
            "\n",
            "[+] Reading file 18: /content/drive/MyDrive/PropertyGuru/2021-09-07/rent/property_data.json\n",
            "[+] Parsing into csv\n",
            "[+] Preparing paths for output directories\n",
            "[+] Writing data to a single output file\n",
            "[+] Output file successfully written to:  /content/drive/MyDrive/PropertyGuru/Output/2021-09-07/rent/property_data.csv\n",
            "\n",
            "[+] Reading file 19: /content/drive/MyDrive/PropertyGuru/2021-09-07/sale/property_urls.json\n",
            "[+] Parsing into csv\n",
            "[+] Preparing paths for output directories\n",
            "[+] Creating output directories\n",
            "[+] Writing data to a single output file\n",
            "[+] Output file successfully written to:  /content/drive/MyDrive/PropertyGuru/Output/2021-09-07/sale/property_urls.csv\n",
            "\n",
            "[+] Reading file 20: /content/drive/MyDrive/PropertyGuru/2021-09-07/sale/property_data.json\n",
            "[+] Parsing into csv\n",
            "[+] Preparing paths for output directories\n",
            "[+] Writing data to a single output file\n",
            "[+] Output file successfully written to:  /content/drive/MyDrive/PropertyGuru/Output/2021-09-07/sale/property_data.csv\n",
            "\n",
            "[+] Reading file 21: /content/drive/MyDrive/PropertyGuru/2020-11-02/sale/property_urls.json\n",
            "[+] Parsing into csv\n",
            "[+] Preparing paths for output directories\n",
            "[+] Creating output directories\n",
            "[+] Writing data to a single output file\n",
            "[+] Output file successfully written to:  /content/drive/MyDrive/PropertyGuru/Output/2020-11-02/sale/property_urls.csv\n",
            "\n",
            "[+] Reading file 22: /content/drive/MyDrive/PropertyGuru/2020-11-02/sale/property_data.json\n",
            "[+] Parsing into csv\n",
            "[+] Preparing paths for output directories\n",
            "[+] Writing data to a single output file\n",
            "[+] Output file successfully written to:  /content/drive/MyDrive/PropertyGuru/Output/2020-11-02/sale/property_data.csv\n",
            "\n",
            "[+] Reading file 23: /content/drive/MyDrive/PropertyGuru/2020-11-02/rent/property_data.json\n",
            "[+] Parsing into csv\n",
            "[+] Preparing paths for output directories\n",
            "[+] Creating output directories\n",
            "[+] Writing data to a single output file\n",
            "[+] Output file successfully written to:  /content/drive/MyDrive/PropertyGuru/Output/2020-11-02/rent/property_data.csv\n",
            "\n",
            "[+] Reading file 24: /content/drive/MyDrive/PropertyGuru/2020-11-02/rent/property_urls.json\n",
            "[+] Parsing into csv\n",
            "[+] Preparing paths for output directories\n",
            "[+] Writing data to a single output file\n",
            "[+] Output file successfully written to:  /content/drive/MyDrive/PropertyGuru/Output/2020-11-02/rent/property_urls.csv\n",
            "\n",
            "[+] Reading file 25: /content/drive/MyDrive/PropertyGuru/2021-03-29/sale/property_urls.json\n",
            "[+] Parsing into csv\n",
            "[+] Preparing paths for output directories\n",
            "[+] Creating output directories\n",
            "[+] Writing data to a single output file\n",
            "[+] Output file successfully written to:  /content/drive/MyDrive/PropertyGuru/Output/2021-03-29/sale/property_urls.csv\n",
            "\n",
            "[+] Reading file 26: /content/drive/MyDrive/PropertyGuru/2021-03-29/sale/property_data.json\n",
            "[+] Parsing into csv\n",
            "[+] Preparing paths for output directories\n",
            "[+] Writing data to a single output file\n",
            "[+] Output file successfully written to:  /content/drive/MyDrive/PropertyGuru/Output/2021-03-29/sale/property_data.csv\n",
            "\n",
            "[+] Reading file 27: /content/drive/MyDrive/PropertyGuru/2021-03-29/rent/property_urls.json\n",
            "[+] Parsing into csv\n",
            "[+] Preparing paths for output directories\n",
            "[+] Creating output directories\n",
            "[+] Writing data to a single output file\n",
            "[+] Output file successfully written to:  /content/drive/MyDrive/PropertyGuru/Output/2021-03-29/rent/property_urls.csv\n",
            "\n",
            "[+] Reading file 28: /content/drive/MyDrive/PropertyGuru/2021-03-29/rent/property_data.json\n",
            "[+] Parsing into csv\n",
            "[+] Preparing paths for output directories\n",
            "[+] Writing data to a single output file\n",
            "[+] Output file successfully written to:  /content/drive/MyDrive/PropertyGuru/Output/2021-03-29/rent/property_data.csv\n",
            "\n",
            "[+] Reading file 29: /content/drive/MyDrive/PropertyGuru/2020-12-04/sale/property_urls.json\n",
            "[+] Parsing into csv\n",
            "[+] Preparing paths for output directories\n",
            "[+] Creating output directories\n",
            "[+] Writing data to a single output file\n",
            "[+] Output file successfully written to:  /content/drive/MyDrive/PropertyGuru/Output/2020-12-04/sale/property_urls.csv\n",
            "\n",
            "[+] Reading file 30: /content/drive/MyDrive/PropertyGuru/2020-12-04/sale/property_data.json\n",
            "[+] Parsing into csv\n",
            "[+] Preparing paths for output directories\n",
            "[+] Writing data to a single output file\n",
            "[+] Output file successfully written to:  /content/drive/MyDrive/PropertyGuru/Output/2020-12-04/sale/property_data.csv\n",
            "\n",
            "[+] Reading file 31: /content/drive/MyDrive/PropertyGuru/2020-12-04/rent/property_urls.json\n",
            "[+] Parsing into csv\n",
            "[+] Preparing paths for output directories\n",
            "[+] Creating output directories\n",
            "[+] Writing data to a single output file\n",
            "[+] Output file successfully written to:  /content/drive/MyDrive/PropertyGuru/Output/2020-12-04/rent/property_urls.csv\n",
            "\n",
            "[+] Reading file 32: /content/drive/MyDrive/PropertyGuru/2020-12-04/rent/property_data.json\n",
            "[+] Parsing into csv\n",
            "[+] Preparing paths for output directories\n",
            "[+] Writing data to a single output file\n",
            "[+] Output file successfully written to:  /content/drive/MyDrive/PropertyGuru/Output/2020-12-04/rent/property_data.csv\n",
            "\n",
            "[+] Reading file 33: /content/drive/MyDrive/PropertyGuru/2021-03-26/rent/property_urls.json\n",
            "[+] Parsing into csv\n",
            "[+] Preparing paths for output directories\n",
            "[+] Creating output directories\n",
            "[+] Writing data to a single output file\n",
            "[+] Output file successfully written to:  /content/drive/MyDrive/PropertyGuru/Output/2021-03-26/rent/property_urls.csv\n",
            "\n",
            "[+] Reading file 34: /content/drive/MyDrive/PropertyGuru/2021-03-26/rent/property_data.json\n",
            "[+] Parsing into csv\n",
            "[+] Preparing paths for output directories\n",
            "[+] Writing data to a single output file\n",
            "[+] Output file successfully written to:  /content/drive/MyDrive/PropertyGuru/Output/2021-03-26/rent/property_data.csv\n",
            "\n",
            "[+] Reading file 35: /content/drive/MyDrive/PropertyGuru/2021-03-26/sale/property_urls.json\n",
            "[+] Parsing into csv\n",
            "[+] Preparing paths for output directories\n",
            "[+] Creating output directories\n",
            "[+] Writing data to a single output file\n",
            "[+] Output file successfully written to:  /content/drive/MyDrive/PropertyGuru/Output/2021-03-26/sale/property_urls.csv\n",
            "\n",
            "[+] Reading file 36: /content/drive/MyDrive/PropertyGuru/2021-03-26/sale/property_data.json\n",
            "[+] Parsing into csv\n",
            "[+] Preparing paths for output directories\n",
            "[+] Writing data to a single output file\n",
            "[+] Output file successfully written to:  /content/drive/MyDrive/PropertyGuru/Output/2021-03-26/sale/property_data.csv\n",
            "\n",
            "[+] Reading file 37: /content/drive/MyDrive/PropertyGuru/2021-02-21/rent/property_urls.json\n",
            "[+] Parsing into csv\n",
            "[+] Preparing paths for output directories\n",
            "[+] Creating output directories\n",
            "[+] Writing data to a single output file\n",
            "[+] Output file successfully written to:  /content/drive/MyDrive/PropertyGuru/Output/2021-02-21/rent/property_urls.csv\n",
            "\n",
            "[+] Reading file 38: /content/drive/MyDrive/PropertyGuru/2021-02-21/rent/property_data.json\n",
            "[+] Parsing into csv\n",
            "[+] Preparing paths for output directories\n",
            "[+] Writing data to a single output file\n",
            "[+] Output file successfully written to:  /content/drive/MyDrive/PropertyGuru/Output/2021-02-21/rent/property_data.csv\n",
            "\n",
            "[+] Reading file 39: /content/drive/MyDrive/PropertyGuru/2021-02-21/sale/property_urls.json\n",
            "[+] Parsing into csv\n",
            "[+] Preparing paths for output directories\n",
            "[+] Creating output directories\n",
            "[+] Writing data to a single output file\n",
            "[+] Output file successfully written to:  /content/drive/MyDrive/PropertyGuru/Output/2021-02-21/sale/property_urls.csv\n",
            "\n",
            "[+] Reading file 40: /content/drive/MyDrive/PropertyGuru/2021-02-21/sale/property_data.json\n",
            "[+] Parsing into csv\n",
            "[+] Preparing paths for output directories\n",
            "[+] Writing data to a single output file\n",
            "[+] Output file successfully written to:  /content/drive/MyDrive/PropertyGuru/Output/2021-02-21/sale/property_data.csv\n",
            "\n",
            "[+] Reading file 41: /content/drive/MyDrive/PropertyGuru/2019-10-28/sale/property_urls.json\n",
            "[+] Parsing into csv\n",
            "[+] Preparing paths for output directories\n",
            "[+] Creating output directories\n",
            "[+] Writing data to a single output file\n",
            "[+] Output file successfully written to:  /content/drive/MyDrive/PropertyGuru/Output/2019-10-28/sale/property_urls.csv\n",
            "\n",
            "[+] Reading file 42: /content/drive/MyDrive/PropertyGuru/2019-10-28/sale/property_data.json\n",
            "[+] Parsing into csv\n",
            "[+] Preparing paths for output directories\n",
            "[+] Writing data to a single output file\n",
            "[+] Output file successfully written to:  /content/drive/MyDrive/PropertyGuru/Output/2019-10-28/sale/property_data.csv\n",
            "\n",
            "[+] Reading file 43: /content/drive/MyDrive/PropertyGuru/2019-10-28/rent/property_urls.json\n",
            "[+] Parsing into csv\n",
            "[+] Preparing paths for output directories\n",
            "[+] Creating output directories\n",
            "[+] Writing data to a single output file\n",
            "[+] Output file successfully written to:  /content/drive/MyDrive/PropertyGuru/Output/2019-10-28/rent/property_urls.csv\n",
            "\n",
            "[+] Reading file 44: /content/drive/MyDrive/PropertyGuru/2019-10-28/rent/property_data.json\n",
            "[+] Parsing into csv\n",
            "[+] Preparing paths for output directories\n",
            "[+] Writing data to a single output file\n",
            "[+] Output file successfully written to:  /content/drive/MyDrive/PropertyGuru/Output/2019-10-28/rent/property_data.csv\n",
            "\n",
            "\n",
            "[+] All files converted successfully\n"
          ]
        }
      ]
    },
    {
      "cell_type": "code",
      "metadata": {
        "id": "-V7OoYbYsbiG"
      },
      "source": [
        ""
      ],
      "execution_count": null,
      "outputs": []
    }
  ]
}